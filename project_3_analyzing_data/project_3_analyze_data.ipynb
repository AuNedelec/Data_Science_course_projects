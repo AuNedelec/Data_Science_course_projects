{
 "cells": [
  {
   "cell_type": "markdown",
   "id": "64ea4107-c24c-42d5-8e12-1309ff801e9b",
   "metadata": {
    "tags": []
   },
   "source": [
    "# Analyze Wage Data with Python\n",
    "\n",
    "- [View Solution Notebook](./solutions.html)\n",
    "- [View Project Page](https://www.codecademy.com/projects/practice/analyze-wage-data-with-python)"
   ]
  },
  {
   "cell_type": "markdown",
   "id": "fb1954dd-07f0-4544-aa1f-ba0e16c01314",
   "metadata": {
    "tags": []
   },
   "source": [
    "## Task Group 1 - Import and Clean"
   ]
  },
  {
   "cell_type": "markdown",
   "id": "7ca74136-3d4d-476a-a22d-4a954c133ea4",
   "metadata": {},
   "source": [
    "### Task 1\n",
    "\n",
    "Display the first five lines of `df_wages`."
   ]
  },
  {
   "cell_type": "code",
   "execution_count": 1,
   "id": "b6d195a1-20e3-4e00-a95c-d830219cd667",
   "metadata": {},
   "outputs": [
    {
     "data": {
      "text/html": [
       "<div>\n",
       "<style scoped>\n",
       "    .dataframe tbody tr th:only-of-type {\n",
       "        vertical-align: middle;\n",
       "    }\n",
       "\n",
       "    .dataframe tbody tr th {\n",
       "        vertical-align: top;\n",
       "    }\n",
       "\n",
       "    .dataframe thead th {\n",
       "        text-align: right;\n",
       "    }\n",
       "</style>\n",
       "<table border=\"1\" class=\"dataframe\">\n",
       "  <thead>\n",
       "    <tr style=\"text-align: right;\">\n",
       "      <th></th>\n",
       "      <th>Index</th>\n",
       "      <th>Occupation title (click on the occupation title to view its profile)</th>\n",
       "      <th>Year</th>\n",
       "      <th>Employment</th>\n",
       "      <th>Average hourly wage</th>\n",
       "      <th>Industry average</th>\n",
       "      <th>Similar occupation average</th>\n",
       "    </tr>\n",
       "  </thead>\n",
       "  <tbody>\n",
       "    <tr>\n",
       "      <th>0</th>\n",
       "      <td>0</td>\n",
       "      <td>Management Occupations - Top Executives - Chie...</td>\n",
       "      <td>2021</td>\n",
       "      <td>200480</td>\n",
       "      <td>$102.41</td>\n",
       "      <td>$59.31</td>\n",
       "      <td>$57.94</td>\n",
       "    </tr>\n",
       "    <tr>\n",
       "      <th>1</th>\n",
       "      <td>1</td>\n",
       "      <td>Management Occupations - Top Executives - Gene...</td>\n",
       "      <td>2021</td>\n",
       "      <td>2984920</td>\n",
       "      <td>$55.41</td>\n",
       "      <td>$59.31</td>\n",
       "      <td>$57.94</td>\n",
       "    </tr>\n",
       "    <tr>\n",
       "      <th>2</th>\n",
       "      <td>2</td>\n",
       "      <td>Management Occupations - Top Executives - Legi...</td>\n",
       "      <td>2021</td>\n",
       "      <td>44590</td>\n",
       "      <td>NaN</td>\n",
       "      <td>$59.31</td>\n",
       "      <td>$57.94</td>\n",
       "    </tr>\n",
       "    <tr>\n",
       "      <th>3</th>\n",
       "      <td>3</td>\n",
       "      <td>Management Occupations - Advertising, Marketin...</td>\n",
       "      <td>2021</td>\n",
       "      <td>22520</td>\n",
       "      <td>$68.68</td>\n",
       "      <td>$59.31</td>\n",
       "      <td>$69.77</td>\n",
       "    </tr>\n",
       "    <tr>\n",
       "      <th>4</th>\n",
       "      <td>4</td>\n",
       "      <td>Management Occupations - Advertising, Marketin...</td>\n",
       "      <td>2021</td>\n",
       "      <td>278690</td>\n",
       "      <td>$73.77</td>\n",
       "      <td>$59.31</td>\n",
       "      <td>$69.77</td>\n",
       "    </tr>\n",
       "  </tbody>\n",
       "</table>\n",
       "</div>"
      ],
      "text/plain": [
       "   Index Occupation title (click on the occupation title to view its profile)  \\\n",
       "0      0  Management Occupations - Top Executives - Chie...                     \n",
       "1      1  Management Occupations - Top Executives - Gene...                     \n",
       "2      2  Management Occupations - Top Executives - Legi...                     \n",
       "3      3  Management Occupations - Advertising, Marketin...                     \n",
       "4      4  Management Occupations - Advertising, Marketin...                     \n",
       "\n",
       "   Year  Employment Average hourly wage Industry average  \\\n",
       "0  2021      200480             $102.41           $59.31   \n",
       "1  2021     2984920              $55.41           $59.31   \n",
       "2  2021       44590                 NaN           $59.31   \n",
       "3  2021       22520              $68.68           $59.31   \n",
       "4  2021      278690              $73.77           $59.31   \n",
       "\n",
       "  Similar occupation average  \n",
       "0                     $57.94  \n",
       "1                     $57.94  \n",
       "2                     $57.94  \n",
       "3                     $69.77  \n",
       "4                     $69.77  "
      ]
     },
     "execution_count": 1,
     "metadata": {},
     "output_type": "execute_result"
    }
   ],
   "source": [
    "import pandas as pd\n",
    "\n",
    "df_wages = pd.read_csv('wages.csv')\n",
    "df_wages.head()\n",
    "\n",
    "# Preview the data\n"
   ]
  },
  {
   "cell_type": "markdown",
   "id": "d2381b76",
   "metadata": {},
   "source": [
    "### Task 2\n",
    "\n",
    "Rename the `Occupation title (click on the occupation title to view its profile)` column to `Occupation title`. "
   ]
  },
  {
   "cell_type": "code",
   "execution_count": 25,
   "id": "7e69e90c",
   "metadata": {},
   "outputs": [
    {
     "data": {
      "text/html": [
       "<div>\n",
       "<style scoped>\n",
       "    .dataframe tbody tr th:only-of-type {\n",
       "        vertical-align: middle;\n",
       "    }\n",
       "\n",
       "    .dataframe tbody tr th {\n",
       "        vertical-align: top;\n",
       "    }\n",
       "\n",
       "    .dataframe thead th {\n",
       "        text-align: right;\n",
       "    }\n",
       "</style>\n",
       "<table border=\"1\" class=\"dataframe\">\n",
       "  <thead>\n",
       "    <tr style=\"text-align: right;\">\n",
       "      <th></th>\n",
       "      <th>Occupation title</th>\n",
       "      <th>Employment</th>\n",
       "      <th>Average hourly wage</th>\n",
       "      <th>Similar occupation average</th>\n",
       "    </tr>\n",
       "  </thead>\n",
       "  <tbody>\n",
       "    <tr>\n",
       "      <th>0</th>\n",
       "      <td>Management Occupations - Top Executives - Chie...</td>\n",
       "      <td>200480</td>\n",
       "      <td>$102.41</td>\n",
       "      <td>$57.94</td>\n",
       "    </tr>\n",
       "    <tr>\n",
       "      <th>1</th>\n",
       "      <td>Management Occupations - Top Executives - Gene...</td>\n",
       "      <td>2984920</td>\n",
       "      <td>$55.41</td>\n",
       "      <td>$57.94</td>\n",
       "    </tr>\n",
       "    <tr>\n",
       "      <th>2</th>\n",
       "      <td>Management Occupations - Top Executives - Legi...</td>\n",
       "      <td>44590</td>\n",
       "      <td>NaN</td>\n",
       "      <td>$57.94</td>\n",
       "    </tr>\n",
       "    <tr>\n",
       "      <th>3</th>\n",
       "      <td>Management Occupations - Advertising, Marketin...</td>\n",
       "      <td>22520</td>\n",
       "      <td>$68.68</td>\n",
       "      <td>$69.77</td>\n",
       "    </tr>\n",
       "    <tr>\n",
       "      <th>4</th>\n",
       "      <td>Management Occupations - Advertising, Marketin...</td>\n",
       "      <td>278690</td>\n",
       "      <td>$73.77</td>\n",
       "      <td>$69.77</td>\n",
       "    </tr>\n",
       "  </tbody>\n",
       "</table>\n",
       "</div>"
      ],
      "text/plain": [
       "                                    Occupation title  Employment  \\\n",
       "0  Management Occupations - Top Executives - Chie...      200480   \n",
       "1  Management Occupations - Top Executives - Gene...     2984920   \n",
       "2  Management Occupations - Top Executives - Legi...       44590   \n",
       "3  Management Occupations - Advertising, Marketin...       22520   \n",
       "4  Management Occupations - Advertising, Marketin...      278690   \n",
       "\n",
       "  Average hourly wage Similar occupation average  \n",
       "0             $102.41                     $57.94  \n",
       "1              $55.41                     $57.94  \n",
       "2                 NaN                     $57.94  \n",
       "3              $68.68                     $69.77  \n",
       "4              $73.77                     $69.77  "
      ]
     },
     "execution_count": 25,
     "metadata": {},
     "output_type": "execute_result"
    }
   ],
   "source": [
    "column_mapper = {'FuckingJob':'Occupation title'}\n",
    "df_wages = df_wages.rename(mapper=column_mapper, axis=1)\n",
    "# show output\n",
    "df_wages.head()"
   ]
  },
  {
   "cell_type": "markdown",
   "id": "2c8730dd-8a8a-4423-b423-e3feba6b93ba",
   "metadata": {},
   "source": [
    "### Task 3\n",
    "\n",
    "Drop any redundant or otherwise unnecessary columns from `df_wages`. Make a note of why these columns are suitable for dropping!"
   ]
  },
  {
   "cell_type": "code",
   "execution_count": 21,
   "id": "c0339a3b-f94b-4555-9be3-cdd5217da812",
   "metadata": {},
   "outputs": [
    {
     "ename": "KeyError",
     "evalue": "\"['Year'] not found in axis\"",
     "output_type": "error",
     "traceback": [
      "\u001b[0;31m---------------------------------------------------------------------------\u001b[0m",
      "\u001b[0;31mKeyError\u001b[0m                                  Traceback (most recent call last)",
      "Cell \u001b[0;32mIn[21], line 1\u001b[0m\n\u001b[0;32m----> 1\u001b[0m df_wages \u001b[38;5;241m=\u001b[39m \u001b[43mdf_wages\u001b[49m\u001b[38;5;241;43m.\u001b[39;49m\u001b[43mdrop\u001b[49m\u001b[43m(\u001b[49m\u001b[43mlabels\u001b[49m\u001b[38;5;241;43m=\u001b[39;49m\u001b[38;5;124;43m'\u001b[39;49m\u001b[38;5;124;43mYear\u001b[39;49m\u001b[38;5;124;43m'\u001b[39;49m\u001b[43m,\u001b[49m\u001b[43m \u001b[49m\u001b[43maxis\u001b[49m\u001b[38;5;241;43m=\u001b[39;49m\u001b[38;5;241;43m1\u001b[39;49m\u001b[43m)\u001b[49m\n\u001b[1;32m      3\u001b[0m \u001b[38;5;66;03m# show output\u001b[39;00m\n\u001b[1;32m      4\u001b[0m df_wages\u001b[38;5;241m.\u001b[39mhead()\n",
      "File \u001b[0;32m/usr/local/lib/python3.8/dist-packages/pandas/util/_decorators.py:311\u001b[0m, in \u001b[0;36mdeprecate_nonkeyword_arguments.<locals>.decorate.<locals>.wrapper\u001b[0;34m(*args, **kwargs)\u001b[0m\n\u001b[1;32m    305\u001b[0m \u001b[38;5;28;01mif\u001b[39;00m \u001b[38;5;28mlen\u001b[39m(args) \u001b[38;5;241m>\u001b[39m num_allow_args:\n\u001b[1;32m    306\u001b[0m     warnings\u001b[38;5;241m.\u001b[39mwarn(\n\u001b[1;32m    307\u001b[0m         msg\u001b[38;5;241m.\u001b[39mformat(arguments\u001b[38;5;241m=\u001b[39marguments),\n\u001b[1;32m    308\u001b[0m         \u001b[38;5;167;01mFutureWarning\u001b[39;00m,\n\u001b[1;32m    309\u001b[0m         stacklevel\u001b[38;5;241m=\u001b[39mstacklevel,\n\u001b[1;32m    310\u001b[0m     )\n\u001b[0;32m--> 311\u001b[0m \u001b[38;5;28;01mreturn\u001b[39;00m \u001b[43mfunc\u001b[49m\u001b[43m(\u001b[49m\u001b[38;5;241;43m*\u001b[39;49m\u001b[43margs\u001b[49m\u001b[43m,\u001b[49m\u001b[43m \u001b[49m\u001b[38;5;241;43m*\u001b[39;49m\u001b[38;5;241;43m*\u001b[39;49m\u001b[43mkwargs\u001b[49m\u001b[43m)\u001b[49m\n",
      "File \u001b[0;32m/usr/local/lib/python3.8/dist-packages/pandas/core/frame.py:4948\u001b[0m, in \u001b[0;36mDataFrame.drop\u001b[0;34m(self, labels, axis, index, columns, level, inplace, errors)\u001b[0m\n\u001b[1;32m   4800\u001b[0m \u001b[38;5;129m@deprecate_nonkeyword_arguments\u001b[39m(version\u001b[38;5;241m=\u001b[39m\u001b[38;5;28;01mNone\u001b[39;00m, allowed_args\u001b[38;5;241m=\u001b[39m[\u001b[38;5;124m\"\u001b[39m\u001b[38;5;124mself\u001b[39m\u001b[38;5;124m\"\u001b[39m, \u001b[38;5;124m\"\u001b[39m\u001b[38;5;124mlabels\u001b[39m\u001b[38;5;124m\"\u001b[39m])\n\u001b[1;32m   4801\u001b[0m \u001b[38;5;28;01mdef\u001b[39;00m \u001b[38;5;21mdrop\u001b[39m(\n\u001b[1;32m   4802\u001b[0m     \u001b[38;5;28mself\u001b[39m,\n\u001b[0;32m   (...)\u001b[0m\n\u001b[1;32m   4809\u001b[0m     errors: \u001b[38;5;28mstr\u001b[39m \u001b[38;5;241m=\u001b[39m \u001b[38;5;124m\"\u001b[39m\u001b[38;5;124mraise\u001b[39m\u001b[38;5;124m\"\u001b[39m,\n\u001b[1;32m   4810\u001b[0m ):\n\u001b[1;32m   4811\u001b[0m \u001b[38;5;250m    \u001b[39m\u001b[38;5;124;03m\"\"\"\u001b[39;00m\n\u001b[1;32m   4812\u001b[0m \u001b[38;5;124;03m    Drop specified labels from rows or columns.\u001b[39;00m\n\u001b[1;32m   4813\u001b[0m \n\u001b[0;32m   (...)\u001b[0m\n\u001b[1;32m   4946\u001b[0m \u001b[38;5;124;03m            weight  1.0     0.8\u001b[39;00m\n\u001b[1;32m   4947\u001b[0m \u001b[38;5;124;03m    \"\"\"\u001b[39;00m\n\u001b[0;32m-> 4948\u001b[0m     \u001b[38;5;28;01mreturn\u001b[39;00m \u001b[38;5;28;43msuper\u001b[39;49m\u001b[43m(\u001b[49m\u001b[43m)\u001b[49m\u001b[38;5;241;43m.\u001b[39;49m\u001b[43mdrop\u001b[49m\u001b[43m(\u001b[49m\n\u001b[1;32m   4949\u001b[0m \u001b[43m        \u001b[49m\u001b[43mlabels\u001b[49m\u001b[38;5;241;43m=\u001b[39;49m\u001b[43mlabels\u001b[49m\u001b[43m,\u001b[49m\n\u001b[1;32m   4950\u001b[0m \u001b[43m        \u001b[49m\u001b[43maxis\u001b[49m\u001b[38;5;241;43m=\u001b[39;49m\u001b[43maxis\u001b[49m\u001b[43m,\u001b[49m\n\u001b[1;32m   4951\u001b[0m \u001b[43m        \u001b[49m\u001b[43mindex\u001b[49m\u001b[38;5;241;43m=\u001b[39;49m\u001b[43mindex\u001b[49m\u001b[43m,\u001b[49m\n\u001b[1;32m   4952\u001b[0m \u001b[43m        \u001b[49m\u001b[43mcolumns\u001b[49m\u001b[38;5;241;43m=\u001b[39;49m\u001b[43mcolumns\u001b[49m\u001b[43m,\u001b[49m\n\u001b[1;32m   4953\u001b[0m \u001b[43m        \u001b[49m\u001b[43mlevel\u001b[49m\u001b[38;5;241;43m=\u001b[39;49m\u001b[43mlevel\u001b[49m\u001b[43m,\u001b[49m\n\u001b[1;32m   4954\u001b[0m \u001b[43m        \u001b[49m\u001b[43minplace\u001b[49m\u001b[38;5;241;43m=\u001b[39;49m\u001b[43minplace\u001b[49m\u001b[43m,\u001b[49m\n\u001b[1;32m   4955\u001b[0m \u001b[43m        \u001b[49m\u001b[43merrors\u001b[49m\u001b[38;5;241;43m=\u001b[39;49m\u001b[43merrors\u001b[49m\u001b[43m,\u001b[49m\n\u001b[1;32m   4956\u001b[0m \u001b[43m    \u001b[49m\u001b[43m)\u001b[49m\n",
      "File \u001b[0;32m/usr/local/lib/python3.8/dist-packages/pandas/core/generic.py:4279\u001b[0m, in \u001b[0;36mNDFrame.drop\u001b[0;34m(self, labels, axis, index, columns, level, inplace, errors)\u001b[0m\n\u001b[1;32m   4277\u001b[0m \u001b[38;5;28;01mfor\u001b[39;00m axis, labels \u001b[38;5;129;01min\u001b[39;00m axes\u001b[38;5;241m.\u001b[39mitems():\n\u001b[1;32m   4278\u001b[0m     \u001b[38;5;28;01mif\u001b[39;00m labels \u001b[38;5;129;01mis\u001b[39;00m \u001b[38;5;129;01mnot\u001b[39;00m \u001b[38;5;28;01mNone\u001b[39;00m:\n\u001b[0;32m-> 4279\u001b[0m         obj \u001b[38;5;241m=\u001b[39m \u001b[43mobj\u001b[49m\u001b[38;5;241;43m.\u001b[39;49m\u001b[43m_drop_axis\u001b[49m\u001b[43m(\u001b[49m\u001b[43mlabels\u001b[49m\u001b[43m,\u001b[49m\u001b[43m \u001b[49m\u001b[43maxis\u001b[49m\u001b[43m,\u001b[49m\u001b[43m \u001b[49m\u001b[43mlevel\u001b[49m\u001b[38;5;241;43m=\u001b[39;49m\u001b[43mlevel\u001b[49m\u001b[43m,\u001b[49m\u001b[43m \u001b[49m\u001b[43merrors\u001b[49m\u001b[38;5;241;43m=\u001b[39;49m\u001b[43merrors\u001b[49m\u001b[43m)\u001b[49m\n\u001b[1;32m   4281\u001b[0m \u001b[38;5;28;01mif\u001b[39;00m inplace:\n\u001b[1;32m   4282\u001b[0m     \u001b[38;5;28mself\u001b[39m\u001b[38;5;241m.\u001b[39m_update_inplace(obj)\n",
      "File \u001b[0;32m/usr/local/lib/python3.8/dist-packages/pandas/core/generic.py:4323\u001b[0m, in \u001b[0;36mNDFrame._drop_axis\u001b[0;34m(self, labels, axis, level, errors, consolidate, only_slice)\u001b[0m\n\u001b[1;32m   4321\u001b[0m         new_axis \u001b[38;5;241m=\u001b[39m axis\u001b[38;5;241m.\u001b[39mdrop(labels, level\u001b[38;5;241m=\u001b[39mlevel, errors\u001b[38;5;241m=\u001b[39merrors)\n\u001b[1;32m   4322\u001b[0m     \u001b[38;5;28;01melse\u001b[39;00m:\n\u001b[0;32m-> 4323\u001b[0m         new_axis \u001b[38;5;241m=\u001b[39m \u001b[43maxis\u001b[49m\u001b[38;5;241;43m.\u001b[39;49m\u001b[43mdrop\u001b[49m\u001b[43m(\u001b[49m\u001b[43mlabels\u001b[49m\u001b[43m,\u001b[49m\u001b[43m \u001b[49m\u001b[43merrors\u001b[49m\u001b[38;5;241;43m=\u001b[39;49m\u001b[43merrors\u001b[49m\u001b[43m)\u001b[49m\n\u001b[1;32m   4324\u001b[0m     indexer \u001b[38;5;241m=\u001b[39m axis\u001b[38;5;241m.\u001b[39mget_indexer(new_axis)\n\u001b[1;32m   4326\u001b[0m \u001b[38;5;66;03m# Case for non-unique axis\u001b[39;00m\n\u001b[1;32m   4327\u001b[0m \u001b[38;5;28;01melse\u001b[39;00m:\n",
      "File \u001b[0;32m/usr/local/lib/python3.8/dist-packages/pandas/core/indexes/base.py:6644\u001b[0m, in \u001b[0;36mIndex.drop\u001b[0;34m(self, labels, errors)\u001b[0m\n\u001b[1;32m   6642\u001b[0m \u001b[38;5;28;01mif\u001b[39;00m mask\u001b[38;5;241m.\u001b[39many():\n\u001b[1;32m   6643\u001b[0m     \u001b[38;5;28;01mif\u001b[39;00m errors \u001b[38;5;241m!=\u001b[39m \u001b[38;5;124m\"\u001b[39m\u001b[38;5;124mignore\u001b[39m\u001b[38;5;124m\"\u001b[39m:\n\u001b[0;32m-> 6644\u001b[0m         \u001b[38;5;28;01mraise\u001b[39;00m \u001b[38;5;167;01mKeyError\u001b[39;00m(\u001b[38;5;124mf\u001b[39m\u001b[38;5;124m\"\u001b[39m\u001b[38;5;132;01m{\u001b[39;00m\u001b[38;5;28mlist\u001b[39m(labels[mask])\u001b[38;5;132;01m}\u001b[39;00m\u001b[38;5;124m not found in axis\u001b[39m\u001b[38;5;124m\"\u001b[39m)\n\u001b[1;32m   6645\u001b[0m     indexer \u001b[38;5;241m=\u001b[39m indexer[\u001b[38;5;241m~\u001b[39mmask]\n\u001b[1;32m   6646\u001b[0m \u001b[38;5;28;01mreturn\u001b[39;00m \u001b[38;5;28mself\u001b[39m\u001b[38;5;241m.\u001b[39mdelete(indexer)\n",
      "\u001b[0;31mKeyError\u001b[0m: \"['Year'] not found in axis\""
     ]
    }
   ],
   "source": [
    "df_wages = df_wages.drop(labels='Year', axis=1)\n",
    "\n",
    "# show output\n",
    "df_wages.head()"
   ]
  },
  {
   "cell_type": "markdown",
   "id": "474b5d05-8a27-495f-9bf8-1ea7561b72ae",
   "metadata": {},
   "source": [
    "### Task 4\n",
    "\n",
    "Display column information including names, # non-null entries, and data types."
   ]
  },
  {
   "cell_type": "code",
   "execution_count": 26,
   "id": "2bbb3f80-28f1-4e30-8f23-d0859ce5ce0c",
   "metadata": {},
   "outputs": [
    {
     "name": "stdout",
     "output_type": "stream",
     "text": [
      "<class 'pandas.core.frame.DataFrame'>\n",
      "RangeIndex: 824 entries, 0 to 823\n",
      "Data columns (total 4 columns):\n",
      " #   Column                      Non-Null Count  Dtype \n",
      "---  ------                      --------------  ----- \n",
      " 0   Occupation title            824 non-null    object\n",
      " 1   Employment                  824 non-null    int64 \n",
      " 2   Average hourly wage         764 non-null    object\n",
      " 3   Similar occupation average  765 non-null    object\n",
      "dtypes: int64(1), object(3)\n",
      "memory usage: 25.9+ KB\n"
     ]
    }
   ],
   "source": [
    "df_wages.info()"
   ]
  },
  {
   "cell_type": "markdown",
   "id": "47795a24-1d0b-410e-9334-48d49bc82c85",
   "metadata": {},
   "source": [
    "## Task Group 2 - Column Transformations"
   ]
  },
  {
   "cell_type": "markdown",
   "id": "54a3e724-5bfe-4ff4-8dc9-ae1b42c68e0c",
   "metadata": {},
   "source": [
    "### Task 5\n",
    "\n",
    "Use pandas to split the information in the `Occupation title` column into new columns `Industry`, `Level`, and `Occupation`. "
   ]
  },
  {
   "cell_type": "code",
   "execution_count": 29,
   "id": "b15c14fa-f76d-480a-985c-9f89928a0efe",
   "metadata": {},
   "outputs": [
    {
     "data": {
      "text/html": [
       "<div>\n",
       "<style scoped>\n",
       "    .dataframe tbody tr th:only-of-type {\n",
       "        vertical-align: middle;\n",
       "    }\n",
       "\n",
       "    .dataframe tbody tr th {\n",
       "        vertical-align: top;\n",
       "    }\n",
       "\n",
       "    .dataframe thead th {\n",
       "        text-align: right;\n",
       "    }\n",
       "</style>\n",
       "<table border=\"1\" class=\"dataframe\">\n",
       "  <thead>\n",
       "    <tr style=\"text-align: right;\">\n",
       "      <th></th>\n",
       "      <th>Occupation title</th>\n",
       "      <th>Industry</th>\n",
       "      <th>Level</th>\n",
       "      <th>Occupation</th>\n",
       "    </tr>\n",
       "  </thead>\n",
       "  <tbody>\n",
       "    <tr>\n",
       "      <th>0</th>\n",
       "      <td>Management Occupations - Top Executives - Chie...</td>\n",
       "      <td>Top Executives</td>\n",
       "      <td>Chief Executives</td>\n",
       "      <td>Management Occupations</td>\n",
       "    </tr>\n",
       "    <tr>\n",
       "      <th>1</th>\n",
       "      <td>Management Occupations - Top Executives - Gene...</td>\n",
       "      <td>Top Executives</td>\n",
       "      <td>General and Operations Managers</td>\n",
       "      <td>Management Occupations</td>\n",
       "    </tr>\n",
       "    <tr>\n",
       "      <th>2</th>\n",
       "      <td>Management Occupations - Top Executives - Legi...</td>\n",
       "      <td>Top Executives</td>\n",
       "      <td>Legislators</td>\n",
       "      <td>Management Occupations</td>\n",
       "    </tr>\n",
       "    <tr>\n",
       "      <th>3</th>\n",
       "      <td>Management Occupations - Advertising, Marketin...</td>\n",
       "      <td>Advertising, Marketing, Promotions, Public Re...</td>\n",
       "      <td>Advertising and Promotions Managers</td>\n",
       "      <td>Management Occupations</td>\n",
       "    </tr>\n",
       "    <tr>\n",
       "      <th>4</th>\n",
       "      <td>Management Occupations - Advertising, Marketin...</td>\n",
       "      <td>Advertising, Marketing, Promotions, Public Re...</td>\n",
       "      <td>Marketing Managers</td>\n",
       "      <td>Management Occupations</td>\n",
       "    </tr>\n",
       "  </tbody>\n",
       "</table>\n",
       "</div>"
      ],
      "text/plain": [
       "                                    Occupation title  \\\n",
       "0  Management Occupations - Top Executives - Chie...   \n",
       "1  Management Occupations - Top Executives - Gene...   \n",
       "2  Management Occupations - Top Executives - Legi...   \n",
       "3  Management Occupations - Advertising, Marketin...   \n",
       "4  Management Occupations - Advertising, Marketin...   \n",
       "\n",
       "                                            Industry  \\\n",
       "0                                    Top Executives    \n",
       "1                                    Top Executives    \n",
       "2                                    Top Executives    \n",
       "3   Advertising, Marketing, Promotions, Public Re...   \n",
       "4   Advertising, Marketing, Promotions, Public Re...   \n",
       "\n",
       "                                  Level               Occupation  \n",
       "0                      Chief Executives  Management Occupations   \n",
       "1       General and Operations Managers  Management Occupations   \n",
       "2                           Legislators  Management Occupations   \n",
       "3   Advertising and Promotions Managers  Management Occupations   \n",
       "4                    Marketing Managers  Management Occupations   "
      ]
     },
     "execution_count": 29,
     "metadata": {},
     "output_type": "execute_result"
    }
   ],
   "source": [
    "split = df_wages['Occupation title'].str.split(pat='-', expand=True)\n",
    "df_wages['Occupation'] = split[0]\n",
    "df_wages['Industry']= split[1]\n",
    "df_wages['Level']= split[2]\n",
    "# show output\n",
    "df_wages[['Occupation title', 'Industry', 'Level', 'Occupation']].head()"
   ]
  },
  {
   "cell_type": "markdown",
   "id": "a226e990-7175-419e-985c-aa567cc32640",
   "metadata": {},
   "source": [
    "### Task 6\n",
    "\n",
    "Remove any leading and trailing whitespaces in the columns `Industry`, `Level`, and `Occupation`."
   ]
  },
  {
   "cell_type": "code",
   "execution_count": null,
   "id": "5bd896cf-571e-47c3-8816-81a492131e9b",
   "metadata": {},
   "outputs": [],
   "source": []
  },
  {
   "cell_type": "markdown",
   "id": "ab6f4e3d-ffb1-4523-b154-6b25f43b74f2",
   "metadata": {},
   "source": [
    "### Task 7\n",
    "\n",
    "Replace the `'$'` character in the columns `Average hourly wage`, `Industry average`, and `Similar occupation average` with an empty character `''` (no space between the single quotes!)."
   ]
  },
  {
   "cell_type": "code",
   "execution_count": null,
   "id": "c7f763cb-1178-4a35-a10d-9c99cc48732a",
   "metadata": {},
   "outputs": [],
   "source": [
    "\n",
    "\n",
    "# show output\n",
    "df_wages[['Average hourly wage', 'Industry average', 'Similar occupation average']].head()"
   ]
  },
  {
   "cell_type": "markdown",
   "id": "b8daf619-5ddf-40bc-8382-2622f90d6248",
   "metadata": {},
   "source": [
    "### Task 8\n",
    "\n",
    "Convert the data types of the columns `Average hourly wage`, `Industry average`, and `Similar occupation average` from `object` to `float`."
   ]
  },
  {
   "cell_type": "code",
   "execution_count": null,
   "id": "5a9f50f6-307c-4608-a37e-f4d96bab3ac9",
   "metadata": {},
   "outputs": [],
   "source": [
    "\n",
    "\n",
    "# show output\n",
    "df_wages.info()"
   ]
  },
  {
   "cell_type": "markdown",
   "id": "058ea3f7-22eb-468a-92b7-1455bcafa6c7",
   "metadata": {},
   "source": [
    "## Task Group 3 - Comparison to Industry Average"
   ]
  },
  {
   "cell_type": "markdown",
   "id": "599e642d-2839-4da4-829c-b1ba90beddb3",
   "metadata": {},
   "source": [
    "### Task 9\n",
    "\n",
    "Calculate the difference between the average hourly wage and the industry average. Assign the difference to a new column `Industry wage difference`."
   ]
  },
  {
   "cell_type": "code",
   "execution_count": null,
   "id": "da784ebf-0cb3-4727-8da2-366853edaa4a",
   "metadata": {},
   "outputs": [],
   "source": [
    "df_wages['Industry wage difference'] = \n",
    "\n",
    "# show output\n",
    "df_wages[['Occupation', 'Average hourly wage', 'Industry average', 'Industry wage difference']].head()"
   ]
  },
  {
   "cell_type": "markdown",
   "id": "01d38192-1875-46eb-9977-e579b5701e2d",
   "metadata": {},
   "source": [
    "### Task 10\n",
    "\n",
    "Divide `Industry wage difference` by `Industry average` to convert the difference to a percent change. (You might want to multiply by `100` at the end to display as a percentage).\n",
    "\n",
    "Assign the result to new column called `Industry wage pctchg`. "
   ]
  },
  {
   "cell_type": "code",
   "execution_count": null,
   "id": "0d8f4aa0-df76-4bfd-a5ce-13e4c899eec3",
   "metadata": {},
   "outputs": [],
   "source": [
    "df_wages['Industry wage pctchg'] = \n",
    "\n",
    "# show output\n",
    "df_wages[['Industry', 'Occupation','Level', 'Average hourly wage', 'Industry average', 'Industry wage pctchg']].head()"
   ]
  },
  {
   "cell_type": "markdown",
   "id": "0a973d2a-2a57-440d-b4da-5ad3e303b277",
   "metadata": {},
   "source": [
    "### Task 11\n",
    "\n",
    "Sort `df_wages` by the `Industry wage pctchg` column from *highest* to *lowest*. Assign the result to the variable `highest_industry_pctchg`."
   ]
  },
  {
   "cell_type": "code",
   "execution_count": null,
   "id": "bac8e251-425b-41e8-999a-7b6b9939c4b6",
   "metadata": {},
   "outputs": [],
   "source": [
    "highest_industry_pctchg = \n",
    "\n",
    "# show output\n",
    "highest_industry_pctchg[['Industry', 'Occupation','Level', 'Industry wage pctchg']].head(10)"
   ]
  },
  {
   "cell_type": "markdown",
   "id": "1eea528e",
   "metadata": {},
   "source": [
    "## Task Group 4 - Computer Jobs"
   ]
  },
  {
   "cell_type": "markdown",
   "id": "196cb84e",
   "metadata": {},
   "source": [
    "### Task 12\n",
    "\n",
    "Use the separate `Industry` column you created in Task 5 to investigate occupations in the **'Computer and Mathematical Occupations'** industry. Filter `df_wages` for this specific industry and create a new DataFrame named `cs_math_occupations`."
   ]
  },
  {
   "cell_type": "code",
   "execution_count": null,
   "id": "b8dde112",
   "metadata": {},
   "outputs": [],
   "source": []
  },
  {
   "cell_type": "markdown",
   "id": "643af850",
   "metadata": {},
   "source": [
    "### Task 13\n",
    "\n",
    "Sort `cs_math_occupations` by `Average hourly wage` from highest to lowest, and display the results."
   ]
  },
  {
   "cell_type": "code",
   "execution_count": null,
   "id": "7556b554",
   "metadata": {},
   "outputs": [],
   "source": []
  }
 ],
 "metadata": {
  "kernelspec": {
   "display_name": "Python 3 (ipykernel)",
   "language": "python",
   "name": "python3"
  },
  "language_info": {
   "codemirror_mode": {
    "name": "ipython",
    "version": 3
   },
   "file_extension": ".py",
   "mimetype": "text/x-python",
   "name": "python",
   "nbconvert_exporter": "python",
   "pygments_lexer": "ipython3",
   "version": "3.8.10"
  }
 },
 "nbformat": 4,
 "nbformat_minor": 5
}
