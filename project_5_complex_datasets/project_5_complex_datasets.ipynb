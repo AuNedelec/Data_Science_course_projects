{
 "cells": [
  {
   "cell_type": "markdown",
   "metadata": {},
   "source": [
    "# Analyzing High-Speed Railway Delays Project\n",
    "\n",
    "- [View Solution Notebook](./solution.html)\n",
    "- [View Project Page](https://www.codecademy.com/projects/practice/analyzing-high-speed-railways-with-python)"
   ]
  },
  {
   "cell_type": "markdown",
   "metadata": {},
   "source": [
    "## Task Group 1 - Load and Clean"
   ]
  },
  {
   "cell_type": "code",
   "execution_count": 1,
   "metadata": {},
   "outputs": [
    {
     "data": {
      "text/html": [
       "<div>\n",
       "<style scoped>\n",
       "    .dataframe tbody tr th:only-of-type {\n",
       "        vertical-align: middle;\n",
       "    }\n",
       "\n",
       "    .dataframe tbody tr th {\n",
       "        vertical-align: top;\n",
       "    }\n",
       "\n",
       "    .dataframe thead th {\n",
       "        text-align: right;\n",
       "    }\n",
       "</style>\n",
       "<table border=\"1\" class=\"dataframe\">\n",
       "  <thead>\n",
       "    <tr style=\"text-align: right;\">\n",
       "      <th></th>\n",
       "      <th>date</th>\n",
       "      <th>ride_id</th>\n",
       "      <th>train_number</th>\n",
       "      <th>station_order</th>\n",
       "      <th>station_name</th>\n",
       "      <th>to_station</th>\n",
       "      <th>mileage</th>\n",
       "      <th>arrival_delay</th>\n",
       "      <th>departure_delay</th>\n",
       "      <th>major_holiday</th>\n",
       "    </tr>\n",
       "  </thead>\n",
       "  <tbody>\n",
       "    <tr>\n",
       "      <th>0</th>\n",
       "      <td>2020-01-01</td>\n",
       "      <td>G1226_20200101_1</td>\n",
       "      <td>G1226</td>\n",
       "      <td>1.0</td>\n",
       "      <td>Shenyangbei Railway Station</td>\n",
       "      <td>Shenyang Railway Station</td>\n",
       "      <td>5.0</td>\n",
       "      <td>0.0</td>\n",
       "      <td>-1.0</td>\n",
       "      <td>True</td>\n",
       "    </tr>\n",
       "    <tr>\n",
       "      <th>1</th>\n",
       "      <td>2020-01-01</td>\n",
       "      <td>G1226_20200101_2</td>\n",
       "      <td>G1226</td>\n",
       "      <td>2.0</td>\n",
       "      <td>Shenyang Railway Station</td>\n",
       "      <td>Liaoyang Railway Station</td>\n",
       "      <td>65.0</td>\n",
       "      <td>-2.0</td>\n",
       "      <td>2.0</td>\n",
       "      <td>True</td>\n",
       "    </tr>\n",
       "    <tr>\n",
       "      <th>2</th>\n",
       "      <td>2020-01-01</td>\n",
       "      <td>G1226_20200101_3</td>\n",
       "      <td>G1226</td>\n",
       "      <td>3.0</td>\n",
       "      <td>Liaoyang Railway Station</td>\n",
       "      <td>Anshanxi Railway Station</td>\n",
       "      <td>30.0</td>\n",
       "      <td>4.0</td>\n",
       "      <td>4.0</td>\n",
       "      <td>True</td>\n",
       "    </tr>\n",
       "    <tr>\n",
       "      <th>3</th>\n",
       "      <td>2020-01-01</td>\n",
       "      <td>G1226_20200101_4</td>\n",
       "      <td>G1226</td>\n",
       "      <td>4.0</td>\n",
       "      <td>Anshanxi Railway Station</td>\n",
       "      <td>Haichengxi Railway Station</td>\n",
       "      <td>39.0</td>\n",
       "      <td>5.0</td>\n",
       "      <td>4.0</td>\n",
       "      <td>True</td>\n",
       "    </tr>\n",
       "    <tr>\n",
       "      <th>4</th>\n",
       "      <td>2020-01-01</td>\n",
       "      <td>G1226_20200101_5</td>\n",
       "      <td>G1226</td>\n",
       "      <td>5.0</td>\n",
       "      <td>Haichengxi Railway Station</td>\n",
       "      <td>Panjin Railway Station</td>\n",
       "      <td>66.0</td>\n",
       "      <td>5.0</td>\n",
       "      <td>4.0</td>\n",
       "      <td>True</td>\n",
       "    </tr>\n",
       "  </tbody>\n",
       "</table>\n",
       "</div>"
      ],
      "text/plain": [
       "         date           ride_id train_number  station_order  \\\n",
       "0  2020-01-01  G1226_20200101_1        G1226            1.0   \n",
       "1  2020-01-01  G1226_20200101_2        G1226            2.0   \n",
       "2  2020-01-01  G1226_20200101_3        G1226            3.0   \n",
       "3  2020-01-01  G1226_20200101_4        G1226            4.0   \n",
       "4  2020-01-01  G1226_20200101_5        G1226            5.0   \n",
       "\n",
       "                  station_name                  to_station  mileage  \\\n",
       "0  Shenyangbei Railway Station    Shenyang Railway Station      5.0   \n",
       "1     Shenyang Railway Station    Liaoyang Railway Station     65.0   \n",
       "2     Liaoyang Railway Station    Anshanxi Railway Station     30.0   \n",
       "3     Anshanxi Railway Station  Haichengxi Railway Station     39.0   \n",
       "4   Haichengxi Railway Station      Panjin Railway Station     66.0   \n",
       "\n",
       "   arrival_delay  departure_delay  major_holiday  \n",
       "0            0.0             -1.0           True  \n",
       "1           -2.0              2.0           True  \n",
       "2            4.0              4.0           True  \n",
       "3            5.0              4.0           True  \n",
       "4            5.0              4.0           True  "
      ]
     },
     "execution_count": 1,
     "metadata": {},
     "output_type": "execute_result"
    }
   ],
   "source": [
    "# Setup\n",
    "import pandas as pd\n",
    "\n",
    "df0 = pd.read_csv('datasets/railway_delays_2020_01_1.csv')\n",
    "df0.head()"
   ]
  },
  {
   "cell_type": "markdown",
   "metadata": {},
   "source": [
    "<details>\n",
    "    <summary style=\"display:list-item; font-size:16px; color:blue;\"><i>What is the structure of this dataset? Toggle to check!</i></summary>\n",
    "\n",
    "Each row contains departure and arrival delays for trains in China on January 1st, 2020. \n",
    "\n",
    "Here's a quick summary of the columns:\n",
    "\n",
    "- **date** - the date of the train ride\n",
    "- **ride_id** - the unique identifier for each train ride: `<train_number>_<yyyymmdd>_<station_order>`\n",
    "- **train_number** - a unique identifier of the train\n",
    "- **station_order** - the order in which each station was visited in a train route by a single train number on a specific date\n",
    "- **station_name** - the name of the departing station\n",
    "- **to_station** - the name of the next station destination\n",
    "- **mileage** - the distance in kilometers to the next station\n",
    "- **arrival_delay** - the delay in minutes arriving to the next station\n",
    "- **departure_delay** - the delay in minutes departing the current station\n",
    "- **major_holiday** - `True` if the `date` is a major holiday\n",
    "\n",
    "</details>"
   ]
  },
  {
   "cell_type": "markdown",
   "metadata": {},
   "source": [
    "### Task 1\n",
    "\n",
    "Each day in January has its own data file. The names of these files depend on the date. For example, the file we read in above is `datasets/railway_delays_2020_01_1.csv`, corresponding to the day `2020-01-1`, or January 1st.\n",
    "\n",
    "Use a list comprehension to create a list of the filenames from January 1st, 2020 to January 27th, 2020. Name this list `filenames` and print out the list. "
   ]
  },
  {
   "cell_type": "code",
   "execution_count": null,
   "metadata": {},
   "outputs": [],
   "source": []
  },
  {
   "cell_type": "markdown",
   "metadata": {},
   "source": [
    "### Task 2\n",
    "\n",
    "Now that we have a list of filenames, we can import them as DataFrames. Use a list comprehension to create a list of DataFrames named `railway_delays_dfs`. Print summary information about the first DataFrame and take a look at the column names and their datatypes."
   ]
  },
  {
   "cell_type": "code",
   "execution_count": null,
   "metadata": {},
   "outputs": [],
   "source": []
  },
  {
   "cell_type": "markdown",
   "metadata": {},
   "source": [
    "### Task 3\n",
    "\n",
    "Concatenate the DataFrames in `railway_delays_dfs` into a single DataFrame named `railway_delays_full`. Print summary information about `railway_delays_full`.\n",
    "\n",
    "What do you notice about the columns in our fully concatenated DataFrame?"
   ]
  },
  {
   "cell_type": "code",
   "execution_count": null,
   "metadata": {},
   "outputs": [],
   "source": []
  },
  {
   "cell_type": "markdown",
   "metadata": {},
   "source": [
    "<details>\n",
    "    <summary style=\"display:list-item; font-size:16px; color:blue;\"><i>What happened when we concatenated all of the DataFrames? Toggle to check!</i></summary>\n",
    "\n",
    "Vertically concatenating all of the DataFrames in `railway_delays_dfs` resulted in duplicate columns. The `.info()` output tells us that each column name appears at least twice. One set of names is lowercased and the other is uppercased. We also see the final column `station_name` is another duplicate that probably resulted from the presence of extra whitespaces in its name.\n",
    "\n",
    "These discrepancies are most likely due to individual DataFrames containing a different set of column names. Since Python and pandas are case-sensitive, we'll need to standardize the column names in every DataFrame before concatenation. \n",
    "</details>"
   ]
  },
  {
   "cell_type": "markdown",
   "metadata": {},
   "source": [
    "### Task 4\n",
    "\n",
    "Standardize the column names in each of the railway delay DataFrames by \n",
    "\n",
    "- *lowercasing* each column name\n",
    "- *removing* any extra whitespaces\n",
    "\n",
    "Use a `for` loop to automate this process.\n",
    "\n",
    "After standardizing the names, re-concatenate the cleaned DataFrames into a single DataFrame named `railway_delays_full` and preview the first five rows."
   ]
  },
  {
   "cell_type": "code",
   "execution_count": null,
   "metadata": {},
   "outputs": [],
   "source": []
  },
  {
   "cell_type": "markdown",
   "metadata": {},
   "source": [
    "### Task 5\n",
    "Let's continue cleaning the DataFrame. Use a for loop and `if/elif` statements to\n",
    "\n",
    "- *uppercase* all the object datatype columns\n",
    "- *strip* any hidden extra whitespace from object columns\n",
    "- *convert* all float datatype columns to integers\n",
    "\n",
    "Preview the cleaned DataFrame to confirm the transformations."
   ]
  },
  {
   "cell_type": "code",
   "execution_count": null,
   "metadata": {},
   "outputs": [],
   "source": []
  },
  {
   "cell_type": "markdown",
   "metadata": {},
   "source": [
    "## Task Group 2 - Impact of Holiday Travel"
   ]
  },
  {
   "cell_type": "markdown",
   "metadata": {},
   "source": [
    "### Task 6\n",
    "\n",
    "Let's see if major holidays had an impact on railway delay times.\n",
    "\n",
    "Let's first see how many train rides actually occurred on major holidays compared to those that didn't. Use the `.value_counts()` method on the `major_holiday` column in `railway_delays_full`.\n",
    "\n",
    "There are four major holidays in our dataset. How does the number of trains on holidays compare to the number of trains on non-holidays?"
   ]
  },
  {
   "cell_type": "code",
   "execution_count": null,
   "metadata": {},
   "outputs": [],
   "source": []
  },
  {
   "cell_type": "markdown",
   "metadata": {},
   "source": [
    "<details>\n",
    "    <summary style=\"display:list-item; font-size:16px; color:blue;\"><i>What did we discover in Task 6? Toggle to check!</i></summary>\n",
    "\n",
    "There are `4274` individual station->station trips on the major holidays, averaging to `1068` per day.\n",
    "    \n",
    "On the `23` non-holiday days in our dataset, there are `25443` station->station trips, averaging to `1106` per day.\n",
    "    \n",
    "Based on this rough back-of-the-envelope calculation, there do seem to be slightly fewer individual trips on the holidays. But we'd have to look at data for more months or talk to a subject-matter expert to know for sure.\n",
    "</details>"
   ]
  },
  {
   "cell_type": "markdown",
   "metadata": {},
   "source": [
    "### Task 7\n",
    "\n",
    "Groupby `major_holiday` and calculate the average of `arrival_delay` and `departure_delay`."
   ]
  },
  {
   "cell_type": "code",
   "execution_count": null,
   "metadata": {},
   "outputs": [],
   "source": []
  },
  {
   "cell_type": "markdown",
   "metadata": {},
   "source": [
    "<details>\n",
    "    <summary style=\"display:list-item; font-size:16px; color:blue;\"><i>What did we discover about the impact of holiday dates? Toggle to check!</i></summary>\n",
    "\n",
    "There doesn't seem to be a major difference in average delays, though both are slightly higher on holidays than non-holidays (by less than a minute). We'd have to dig into this further to know if this is a fluke of the dates we happen to be looking at or an actual statistical impact. Either way, it probably isn't enough to make a noticeable difference to riders!\n",
    "\n",
    "</details>"
   ]
  },
  {
   "cell_type": "markdown",
   "metadata": {},
   "source": [
    "## Task Group 3 - Impact of Distance Between Stations"
   ]
  },
  {
   "cell_type": "markdown",
   "metadata": {},
   "source": [
    "### Task 8\n",
    "The distance between stations could impact delays. For example, having further to travel might correspond to increased delays.\n",
    "\n",
    "In the next tasks, we'll investigate the distances between stations to see if there is an impact on train delays. \n",
    "\n",
    "Compute descriptive summary statistics on the distances from station to station by calling the `.describe()` method on the `mileage` column in `railway_delays_full`.\n",
    "\n",
    "What is the mean mileage (kilometers)?"
   ]
  },
  {
   "cell_type": "code",
   "execution_count": null,
   "metadata": {},
   "outputs": [],
   "source": []
  },
  {
   "cell_type": "markdown",
   "metadata": {},
   "source": [
    "### Task 9\n",
    "\n",
    "Let's see if longer-than-average distances correspond to longer delays.\n",
    "\n",
    "Create a column `long_distance` that is `True` in any row with `mileage` greater than `88` (the average)."
   ]
  },
  {
   "cell_type": "code",
   "execution_count": null,
   "metadata": {},
   "outputs": [],
   "source": []
  },
  {
   "cell_type": "markdown",
   "metadata": {},
   "source": [
    "### Task 10\n",
    "\n",
    "Groupby `long_distance` and calculate the average `arrival_delay` and `departure_delay`."
   ]
  },
  {
   "cell_type": "code",
   "execution_count": null,
   "metadata": {},
   "outputs": [],
   "source": []
  },
  {
   "cell_type": "markdown",
   "metadata": {},
   "source": [
    "<details>\n",
    "    <summary style=\"display:list-item; font-size:16px; color:blue;\"><i>What did we discover about the impact of distances between stations? Toggle to check!</i></summary>\n",
    "\n",
    "Trips with longer-than-average distance have almost double the mean delays of shorter-than-average trips. While we can't be 100% certain that the distances from station to station are a contributing factor to delay times, this is promising evidence to investigate this phenomenon further. \n",
    "\n",
    "</details>"
   ]
  },
  {
   "cell_type": "markdown",
   "metadata": {},
   "source": [
    "## Task Group 4 - Impact of Weather"
   ]
  },
  {
   "cell_type": "markdown",
   "metadata": {},
   "source": [
    "### Task 11\n",
    "\n",
    "Lastly, let's take a look at delays during ideal weather conditions and compare them to the delays during severe weather conditions.\n",
    "\n",
    "Import the CSV file `datasets/weather.csv` into a DataFrame named `weather` and preview the first five rows."
   ]
  },
  {
   "cell_type": "code",
   "execution_count": null,
   "metadata": {},
   "outputs": [],
   "source": []
  },
  {
   "cell_type": "markdown",
   "metadata": {},
   "source": [
    "### Task 12\n",
    "\n",
    "Let's clean `weather` by \n",
    "- *uppercasing* all of the text/object datatype columns\n",
    "- *stripping* whitespace from the object columns\n",
    "- *converting* all the float datatype columns to integers (we've checked that they should all be integers!) \n",
    "\n",
    "Use `for` loops and `if/elif` statements to automate this process.\n",
    "\n",
    "Preview the modified DataFrame. "
   ]
  },
  {
   "cell_type": "code",
   "execution_count": null,
   "metadata": {},
   "outputs": [],
   "source": [
    "for column in weather.columns:\n",
    "    if weather[column].dtype == 'object':\n",
    "        weather[column] = weather[column].str.upper()\n",
    "        weather[column] = weather[column].str.strip()\n",
    "    \n",
    "    elif weather[column].dtype == 'float64':\n",
    "        weather[column] = weather[column].astype('int64')\n",
    "\n",
    "weather.head()"
   ]
  },
  {
   "cell_type": "markdown",
   "metadata": {},
   "source": [
    "### Task 13\n",
    "\n",
    "Merge `weather` with `railway_delays_full` using the `ride_id` column. Use an inner merge and name the merged DataFrame `railway_delays_join_weather`. Preview the first five rows of the DataFrame."
   ]
  },
  {
   "cell_type": "code",
   "execution_count": null,
   "metadata": {},
   "outputs": [],
   "source": []
  },
  {
   "cell_type": "markdown",
   "metadata": {},
   "source": [
    "### Task 14\n",
    "\n",
    "Groupby the `weather` column, and calculate the average of `arrival_delay` and `departure_delay`. Sort the result from highest `arrival_delay` to lowest."
   ]
  },
  {
   "cell_type": "code",
   "execution_count": null,
   "metadata": {},
   "outputs": [],
   "source": []
  },
  {
   "cell_type": "markdown",
   "metadata": {},
   "source": [
    "<details>\n",
    "    <summary style=\"display:list-item; font-size:16px; color:blue;\"><i>What did we discover about the impact of weather? Toggle to check!</i></summary>\n",
    "\n",
    "There is a noticeable difference in delays based on weather conditions.\n",
    "\n",
    "- Severe weather conditions like blizzards and heavy snow saw a significant increase in delay times\n",
    "- Ideal weather conditions like sunny and rainy conditions saw shorter delay times\n",
    "- Fog and hazy weather conditions had the lowest delay times\n",
    "\n",
    "The last bullet point is perhaps the most interesting. Can you think of any reasons why fog would have lower delays than sunny conditions?\n",
    "\n",
    "</details>"
   ]
  },
  {
   "cell_type": "markdown",
   "metadata": {},
   "source": [
    "There's definitely more insights to discover from this real-world dataset. Feel free to continue exploring here, or [download the source dataset](https://figshare.com/articles/dataset/A_high-speed_railway_network_dataset_from_train_operation_records_and_weather_data/15087882/4), which contains several more months of high-speed rail data!"
   ]
  },
  {
   "cell_type": "code",
   "execution_count": null,
   "metadata": {},
   "outputs": [],
   "source": []
  }
 ],
 "metadata": {
  "kernelspec": {
   "display_name": "Python 3 (ipykernel)",
   "language": "python",
   "name": "python3"
  },
  "language_info": {
   "codemirror_mode": {
    "name": "ipython",
    "version": 3
   },
   "file_extension": ".py",
   "mimetype": "text/x-python",
   "name": "python",
   "nbconvert_exporter": "python",
   "pygments_lexer": "ipython3",
   "version": "3.8.10"
  },
  "vscode": {
   "interpreter": {
    "hash": "309216611941becf9925be7ac3912671b340e0beea225aa90b8e863000503aea"
   }
  }
 },
 "nbformat": 4,
 "nbformat_minor": 2
}
