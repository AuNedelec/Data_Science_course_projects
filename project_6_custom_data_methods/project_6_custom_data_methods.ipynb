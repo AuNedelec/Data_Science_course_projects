{
 "cells": [
  {
   "cell_type": "markdown",
   "id": "e9d02f04",
   "metadata": {},
   "source": [
    "# Analyze Internet Use with Python\n",
    "\n",
    "- [View Solution Notebook](./solutions.html)\n",
    "- [View Project Page](https://www.codecademy.com/projects/practice/analyze-internet-use-with-python)"
   ]
  },
  {
   "cell_type": "markdown",
   "id": "7dcd6a3b",
   "metadata": {},
   "source": [
    "## Task Group 1 - Import and Inspect"
   ]
  },
  {
   "cell_type": "markdown",
   "id": "c4d5722a",
   "metadata": {},
   "source": [
    "### Task 1\n",
    "\n",
    "Import the CSV file `internet.csv` and assign it to the variable `internet`. Preview the first few rows."
   ]
  },
  {
   "cell_type": "code",
   "execution_count": null,
   "id": "752462c9",
   "metadata": {},
   "outputs": [],
   "source": [
    "import pandas as pd\n"
   ]
  },
  {
   "cell_type": "markdown",
   "id": "997ef4f1",
   "metadata": {},
   "source": [
    "<details>\n",
    "    <summary style=\"display:list-item; font-size:16px; color:blue;\"><i>What is the structure of this dataset? Toggle to check!</i></summary>\n",
    "\n",
    "Each row of the dataset records the percent of a country's population that uses the internet. According to Our World in Data, a person is defined as an `internet user` by the International Telecommunication Union if they accessed the internet from any location in the last three months.\n",
    "\n",
    "The columns of the dataset are\n",
    "- `entity`, the name of the country, region, or income bracket\n",
    "- `code`, the three-letter country code\n",
    "- `year`, the year\n",
    "- `internet_users_per_100`, the number of internet users for every 100 people in the entity's population\n",
    "\n",
    "Note that we have already trimmed the source dataset to 1990-2019.\n",
    "</details>"
   ]
  },
  {
   "cell_type": "markdown",
   "id": "ef8adb27",
   "metadata": {},
   "source": [
    " ### Task 2\n",
    "\n",
    "The column `internet_users_per_100` is well-named, but let's shorten it.\n",
    "\n",
    "Clean the dataset by updating the column name `internet_users_per_100` to `percent_online`. Print out `.info()` after doing so. Are there any incorrect data types or missing data issues to be concerned about before diving in?"
   ]
  },
  {
   "cell_type": "code",
   "execution_count": null,
   "id": "4115d085",
   "metadata": {},
   "outputs": [],
   "source": []
  },
  {
   "cell_type": "markdown",
   "id": "b5ee57e9",
   "metadata": {},
   "source": [
    "## Task Group 2 - Years to Reach Mainstream Use"
   ]
  },
  {
   "cell_type": "markdown",
   "id": "fe3733bc",
   "metadata": {},
   "source": [
    "### Task 3\n",
    "\n",
    "Let's analyze how long it takes for internet use to reach the majority of people in an `entity`.\n",
    "\n",
    "Write a function that takes a `row` as input and classifies it by `percent_online`:\n",
    "- `0` should be classified as `none`\n",
    "- greater than 0 and under 25 should be classified as `few`\n",
    "- 25-50 should be classified as `some`\n",
    "- over 50 should be classified as `most`\n"
   ]
  },
  {
   "cell_type": "code",
   "execution_count": null,
   "id": "dd6f3ce6",
   "metadata": {},
   "outputs": [],
   "source": []
  },
  {
   "cell_type": "markdown",
   "id": "ee7f7ba5",
   "metadata": {},
   "source": [
    "### Task 4\n",
    "\n",
    "Create a new column named `amount` on `internet` by applying the function from Task 3 to each row."
   ]
  },
  {
   "cell_type": "code",
   "execution_count": null,
   "id": "b1a6eb83",
   "metadata": {},
   "outputs": [],
   "source": []
  },
  {
   "cell_type": "markdown",
   "id": "51c0224e",
   "metadata": {},
   "source": [
    "### Task 5\n",
    "\n",
    "Let's figure out the first year in our data that each entity reached each level of internet use.\n",
    "\n",
    "Pivot `internet` using\n",
    "- `year` as the values\n",
    "- `entity` and `code` as the index\n",
    "- `amount` as the column\n",
    "- `min` as the aggfunc\n",
    "\n",
    "Reset the index and save the result as `years`."
   ]
  },
  {
   "cell_type": "code",
   "execution_count": null,
   "id": "3449069c",
   "metadata": {},
   "outputs": [],
   "source": []
  },
  {
   "cell_type": "markdown",
   "id": "41603762",
   "metadata": {},
   "source": [
    "### Task 6\n",
    "\n",
    "Albania took from 1995-2009 to reach 25%+ of the country online, corresponding to 14 years. \n",
    "\n",
    "By contrast, it only took from 2009-2013, 4 years, to reach over 50%. That's over 3 times faster!\n",
    "\n",
    "Let's see if this phenomenon holds in general.\n",
    "\n",
    "Create two new columns:\n",
    "- `few2some` should be the number of years between `few` and `some`\n",
    "- `some2most` should be the number of years between `some` and `most`"
   ]
  },
  {
   "cell_type": "code",
   "execution_count": null,
   "id": "c838ee5a",
   "metadata": {},
   "outputs": [],
   "source": []
  },
  {
   "cell_type": "markdown",
   "id": "edd45867",
   "metadata": {},
   "source": [
    "### Task 7\n",
    "\n",
    "Print out the average of `few2some` and the average of `some2most`."
   ]
  },
  {
   "cell_type": "code",
   "execution_count": null,
   "id": "fd185b70",
   "metadata": {},
   "outputs": [],
   "source": []
  },
  {
   "cell_type": "markdown",
   "id": "b712015e",
   "metadata": {},
   "source": [
    "<details>\n",
    "    <summary style=\"display:list-item; font-size:16px; color:blue;\"><i>What did we learn about the spread of internet use? Toggle to check!</i></summary>\n",
    "\n",
    "Of the countries in the dataset that have passed the 25% threshold, it takes on average `14` years to go from non-zero internet use to over `25%`. But then, for countries that pass 25% it takes only `5` more years on average to reach a majority of the country.\n",
    "    \n",
    "There are some ways that this analysis could be improved. If a country \"passes\" 25% by jumping suddenly to 45%, for example, it wouldn't be surprising that it takes less time to pass 50%. Think about how you could refine our analysis to take this into account!\n",
    "</details>"
   ]
  },
  {
   "cell_type": "markdown",
   "id": "74cb94ba",
   "metadata": {},
   "source": [
    "### Task 8\n",
    "\n",
    "This dataset includes some rows that correspond to broader geographic regions and income brackets, not just countries. These are labeled `CAT` in the `code` column.\n",
    "\n",
    "Display `years` filtered to rows where `code` is `CAT`. Sort by `few2some`, ascending."
   ]
  },
  {
   "cell_type": "code",
   "execution_count": null,
   "id": "19805f0b",
   "metadata": {},
   "outputs": [],
   "source": []
  },
  {
   "cell_type": "markdown",
   "id": "091bafdc",
   "metadata": {},
   "source": [
    "<details>\n",
    "    <summary style=\"display:list-item; font-size:16px; color:blue;\"><i>What did we learn about the spread of internet use? Toggle to check!</i></summary>\n",
    "\n",
    "Perhaps unsurprisingly, we see a pretty strong disparity in internet use. The global north and higher income brackets tend to have reached the `most` category fairly quickly. At least in this data, low/middle income brackets and southern regions like South Asia have yet to reach the `most` category, and take the longest to go from `few` to `some`.\n",
    "</details>"
   ]
  },
  {
   "cell_type": "markdown",
   "id": "232579b7",
   "metadata": {},
   "source": [
    "## Task Group 3 - Growth by Decade"
   ]
  },
  {
   "cell_type": "markdown",
   "id": "7b69dd88",
   "metadata": {},
   "source": [
    "### Task 9\n",
    "\n",
    "Let's return to our original `internet` dataset and investigate how quickly internet use has increased over the decades. \n",
    "\n",
    "Note that we don't have full data for all countries. For example, for Nauru we only have one year of data in the 2000s and two years of data in the 2010s. For this project, we'll use the rough approximation of analyzing growth over the years we do have, but to make any strong scientific conclusions we'd want to refine this analysis.\n",
    "\n",
    "Most of the missing years are in the 1990s, so start by filtering the DataFrame down to only years past 1999."
   ]
  },
  {
   "cell_type": "code",
   "execution_count": null,
   "id": "aa59b736",
   "metadata": {},
   "outputs": [],
   "source": []
  },
  {
   "cell_type": "markdown",
   "id": "983afe6f",
   "metadata": {},
   "source": [
    "### Task 10\n",
    "\n",
    "Now let's add decade information!\n",
    "\n",
    "Create a function named `decader` that takes a `row` as input and outputs the decade corresponding to `row['year']`.\n",
    "\n",
    "The format for the decade should be as follows:\n",
    "\n",
    "- the years `2000-2009` inclusive should have decade `2000s`\n",
    "- the years `2010-2019` inclusive should have decade `2010s`"
   ]
  },
  {
   "cell_type": "code",
   "execution_count": null,
   "id": "b706eb52",
   "metadata": {},
   "outputs": [],
   "source": []
  },
  {
   "cell_type": "markdown",
   "id": "225fd187",
   "metadata": {},
   "source": [
    "### Task 11\n",
    "\n",
    "Use `.apply()` to create a new column `decade` that stores decade information for each row."
   ]
  },
  {
   "cell_type": "code",
   "execution_count": null,
   "id": "a71017cd",
   "metadata": {},
   "outputs": [],
   "source": []
  },
  {
   "cell_type": "markdown",
   "id": "e27c34af",
   "metadata": {},
   "source": [
    "### Task 12\n",
    "\n",
    "Now, let's write a function to calculate how much internet use has changed over a sequence of years.\n",
    "\n",
    "Write a function `change` that takes a DataFrame `column` as input.\n",
    "\n",
    "If the `len(column)` is `1` (that is, the column has only one entry), return that entry (`.iloc[0]`)\n",
    "\n",
    "Otherwise, return the difference between the last entry (`.iloc[-1]`) and the first entry (`.iloc[0]`)."
   ]
  },
  {
   "cell_type": "code",
   "execution_count": null,
   "id": "5d249a7d",
   "metadata": {},
   "outputs": [],
   "source": []
  },
  {
   "cell_type": "markdown",
   "id": "df22b5ff",
   "metadata": {},
   "source": [
    "### Task 13\n",
    "\n",
    "In order for `change` to compute the change from the start of a decade to its end, we need the years to be in order, so that the last entry of the column is the latest year of the decade in the dataset.\n",
    "\n",
    "Sort `internet` by `year`, ascending."
   ]
  },
  {
   "cell_type": "code",
   "execution_count": null,
   "id": "5ec0b2a1",
   "metadata": {},
   "outputs": [],
   "source": []
  },
  {
   "cell_type": "markdown",
   "id": "38e8b4df",
   "metadata": {},
   "source": [
    "### Task 14\n",
    "\n",
    "Let's apply `change` to calculate how much the internet has grown over each decade. At the same time, let's calculate the first and last year of data for each country, so we can know how many years it took for that change to occur.\n",
    "\n",
    "Group `internet` by `entity` and `decade`. Using `.agg`:\n",
    "\n",
    "- apply `change` to `percent_online`\n",
    "- apply `['min','max']` to `year`\n",
    "\n",
    "Assign the result to the variable `decade_growth`, and reset the index."
   ]
  },
  {
   "cell_type": "code",
   "execution_count": null,
   "id": "fd1b127b",
   "metadata": {},
   "outputs": [],
   "source": []
  },
  {
   "cell_type": "markdown",
   "id": "00e27200",
   "metadata": {},
   "source": [
    "### Task 15\n",
    "\n",
    "Let's flatten the columns of this new DataFrame.\n",
    "\n",
    "Reassign `.columns` using the names `['entity','decade','change','min','max']`"
   ]
  },
  {
   "cell_type": "code",
   "execution_count": null,
   "id": "5a34ccac",
   "metadata": {},
   "outputs": [],
   "source": []
  },
  {
   "cell_type": "markdown",
   "id": "74fd7c6b",
   "metadata": {},
   "source": [
    "### Task 16\n",
    "\n",
    "Let's calculate yearly growth.\n",
    "\n",
    "Add a new column `annual` by calculating `decade_growth['change']` divided by `decade_growth['max'] - decade_growth['min']`"
   ]
  },
  {
   "cell_type": "code",
   "execution_count": null,
   "id": "bf3e2b0c",
   "metadata": {},
   "outputs": [],
   "source": []
  },
  {
   "cell_type": "markdown",
   "id": "ee98c997",
   "metadata": {},
   "source": [
    "### Task 17\n",
    "\n",
    "Let's make this table a bit more human-readable by converting to wide format.\n",
    "\n",
    "Pivot `decade_growth` using\n",
    "- `annual` as the values\n",
    "- `entity` as the index\n",
    "- `decade` as the columns\n",
    "\n",
    "Assign the result back to `decade_growth`."
   ]
  },
  {
   "cell_type": "code",
   "execution_count": null,
   "id": "123ee421",
   "metadata": {},
   "outputs": [],
   "source": []
  },
  {
   "cell_type": "markdown",
   "id": "95ef1947",
   "metadata": {},
   "source": [
    "### Task 18\n",
    "\n",
    "Create a new column `ratio` that takes `2010s` and divides by `2000s`."
   ]
  },
  {
   "cell_type": "code",
   "execution_count": null,
   "id": "35a41bd1",
   "metadata": {},
   "outputs": [],
   "source": []
  },
  {
   "cell_type": "markdown",
   "id": "68a821bb",
   "metadata": {},
   "source": [
    "### Task 19\n",
    "\n",
    "Print out descriptive statistics of the new `ratio` column. What do you notice?"
   ]
  },
  {
   "cell_type": "code",
   "execution_count": null,
   "id": "431b9242",
   "metadata": {},
   "outputs": [],
   "source": []
  },
  {
   "cell_type": "markdown",
   "id": "3f6f4d27",
   "metadata": {},
   "source": [
    "<details>\n",
    "    <summary style=\"display:list-item; font-size:16px; color:blue;\"><i>What did we learn about internet use? Toggle to check!</i></summary>\n",
    "\n",
    "On average, annual growth in the 2010s was 5 times as large as annual growth in the 2000s.\n",
    "    \n",
    "This average is being pulled up by some enormous outliers. The median is `1.5`, so half the entities in the dataset had over 1.5x more annual growth in the 2010s than the 2000s.\n",
    "    \n",
    "Interestingly, the 25th percentile is `.71`, so over 25% of countries experienced less annual growth in the 2010s than in the 2000s! This likely makes sense for countries like the USA, which had already reached a majority of the population by 2010. What other factors might cause a country to end up with slower internet growth in the 2010s than in the 2000s?\n",
    "    \n",
    "Again, for some countries we may be missing some decade information. We encourage you dig deeper into this dataset if you want to refine our analysis!\n",
    "   \n",
    "</details>"
   ]
  },
  {
   "cell_type": "markdown",
   "id": "19a97efe",
   "metadata": {},
   "source": [
    "There is so much more to discover in this dataset. Feel free to add more cells below to extend the analysis, and happy coding!"
   ]
  }
 ],
 "metadata": {
  "kernelspec": {
   "display_name": "Python 3 (ipykernel)",
   "language": "python",
   "name": "python3"
  },
  "language_info": {
   "codemirror_mode": {
    "name": "ipython",
    "version": 3
   },
   "file_extension": ".py",
   "mimetype": "text/x-python",
   "name": "python",
   "nbconvert_exporter": "python",
   "pygments_lexer": "ipython3",
   "version": "3.8.10"
  }
 },
 "nbformat": 4,
 "nbformat_minor": 5
}
